{
 "cells": [
  {
   "cell_type": "markdown",
   "metadata": {},
   "source": [
    "# Numpy Practice "
   ]
  },
  {
   "cell_type": "code",
   "execution_count": 1,
   "metadata": {},
   "outputs": [],
   "source": [
    "import numpy as np"
   ]
  },
  {
   "cell_type": "markdown",
   "metadata": {},
   "source": [
    "## Declaring arrays in numpy"
   ]
  },
  {
   "cell_type": "code",
   "execution_count": 3,
   "metadata": {},
   "outputs": [
    {
     "name": "stdout",
     "output_type": "stream",
     "text": [
      "[1 2 3 4 5 6 7 8 9]\n",
      "<class 'numpy.ndarray'>\n"
     ]
    }
   ],
   "source": [
    "## Creating Arrays and Matrices in numpy\n",
    "x = np.array([1,2,3,4,5,6,7,8,9])\n",
    "print(x)\n",
    "print(type(x))\n",
    "## The type is 'ndarray'"
   ]
  },
  {
   "cell_type": "markdown",
   "metadata": {},
   "source": [
    "## numpy.shape attribute -> (row, col)"
   ]
  },
  {
   "cell_type": "code",
   "execution_count": 5,
   "metadata": {},
   "outputs": [
    {
     "name": "stdout",
     "output_type": "stream",
     "text": [
      "(9,)\n",
      "(2, 3)\n",
      "(3, 1)\n"
     ]
    }
   ],
   "source": [
    "## The ndarray.shape attribute ->  (row,cols)\n",
    "x = np.array([1,2,3,4,5,6,7,8,9])\n",
    "y = np.array([\n",
    "    [1,2,3],\n",
    "    [2,3,4]\n",
    "])\n",
    "z = np.array([\n",
    "    [1],\n",
    "    [2],\n",
    "    [3]\n",
    "])\n",
    "\n",
    "print(x.shape)\n",
    "print(y.shape)\n",
    "print(z.shape)"
   ]
  },
  {
   "cell_type": "markdown",
   "metadata": {},
   "source": [
    "## Indexing and Slicing in numpy"
   ]
  },
  {
   "cell_type": "code",
   "execution_count": 10,
   "metadata": {},
   "outputs": [
    {
     "name": "stdout",
     "output_type": "stream",
     "text": [
      "[2 3 4]\n",
      "3\n",
      "[[1 2]\n",
      " [2 3]]\n",
      "[[1 2 3]\n",
      " [2 3 4]\n",
      " [3 4 5]\n",
      " [4 5 6]]\n",
      "[2 3 4 5]\n",
      "[[3 4]\n",
      " [4 5]\n",
      " [5 6]]\n"
     ]
    }
   ],
   "source": [
    "## Indexing and slicing\n",
    "x = np.array([\n",
    "    [1,2,3],\n",
    "    [2,3,4],\n",
    "    [3,4,5],\n",
    "    [4,5,6]\n",
    "])\n",
    "\n",
    "print(x[1])\n",
    "print(x[1][1])\n",
    "print(x[0:2,0:2])  ## x[start_row_index : end_row_index + 1, start_col_index : end_col_index + 1]\n",
    "print(x[:,:])\n",
    "print(x[0:,1])\n",
    "print(x[1:,1:])"
   ]
  },
  {
   "cell_type": "markdown",
   "metadata": {},
   "source": [
    "## numpy.dtype attribute "
   ]
  },
  {
   "cell_type": "code",
   "execution_count": 17,
   "metadata": {},
   "outputs": [
    {
     "name": "stdout",
     "output_type": "stream",
     "text": [
      "int32\n",
      "float64\n",
      "[1. 2. 3. 4. 5.]\n",
      "complex128\n",
      "[1.+0.j 2.+0.j 3.+0.j 4.+0.j 5.+0.j]\n",
      "int64\n",
      "int16\n"
     ]
    }
   ],
   "source": [
    "x = np.array([1,2,3,4,5])\n",
    "print(x.dtype)\n",
    "x = np.array([1,2,3,4,5],dtype=float)\n",
    "print(x.dtype)\n",
    "print(x)\n",
    "x = np.array([1,2,3,4,5],dtype=complex)\n",
    "print(x.dtype)\n",
    "print(x)\n",
    "x = np.array([1,2,3,4,5],dtype=np.int64)\n",
    "print(x.dtype)\n",
    "x = np.array([1,2,3,4,5],dtype=np.int16)\n",
    "print(x.dtype)"
   ]
  },
  {
   "cell_type": "markdown",
   "metadata": {},
   "source": [
    "## Some other attributes"
   ]
  },
  {
   "cell_type": "code",
   "execution_count": 20,
   "metadata": {},
   "outputs": [
    {
     "name": "stdout",
     "output_type": "stream",
     "text": [
      "10\n",
      "int16\n",
      "2\n"
     ]
    }
   ],
   "source": [
    "x = np.array([[1,2,3,4,5],[2,3,4,5,6]],dtype=np.int16)\n",
    "print(x.size) # rows*cols -> 2*5\n",
    "print(x.dtype)\n",
    "print(x.ndim) # Number of axes of the array"
   ]
  },
  {
   "cell_type": "markdown",
   "metadata": {},
   "source": [
    "## Creating array of zeros, ones and custom array"
   ]
  },
  {
   "cell_type": "code",
   "execution_count": 22,
   "metadata": {},
   "outputs": [
    {
     "name": "stdout",
     "output_type": "stream",
     "text": [
      "[[0. 0. 0.]\n",
      " [0. 0. 0.]\n",
      " [0. 0. 0.]]\n",
      "[[0 0 0 0]\n",
      " [0 0 0 0]\n",
      " [0 0 0 0]]\n"
     ]
    }
   ],
   "source": [
    "x = np.zeros((3,3))\n",
    "print(x)\n",
    "x = np.zeros((3,4),dtype=np.int16)\n",
    "print(x)"
   ]
  },
  {
   "cell_type": "code",
   "execution_count": 25,
   "metadata": {},
   "outputs": [
    {
     "name": "stdout",
     "output_type": "stream",
     "text": [
      "[[1. 1. 1.]\n",
      " [1. 1. 1.]\n",
      " [1. 1. 1.]]\n"
     ]
    }
   ],
   "source": [
    "x = np.ones((3,3))\n",
    "print(x)"
   ]
  },
  {
   "cell_type": "code",
   "execution_count": 26,
   "metadata": {},
   "outputs": [
    {
     "name": "stdout",
     "output_type": "stream",
     "text": [
      "[[1. 0. 0.]\n",
      " [0. 1. 0.]\n",
      " [0. 0. 1.]]\n"
     ]
    }
   ],
   "source": [
    "x = np.eye(3)\n",
    "print(x)"
   ]
  },
  {
   "cell_type": "code",
   "execution_count": 29,
   "metadata": {},
   "outputs": [
    {
     "name": "stdout",
     "output_type": "stream",
     "text": [
      "[[5 5 5]\n",
      " [5 5 5]]\n",
      "[[5. 5. 5.]\n",
      " [5. 5. 5.]\n",
      " [5. 5. 5.]\n",
      " [5. 5. 5.]]\n"
     ]
    }
   ],
   "source": [
    "x = np.full((2,3),5,dtype=np.int32)\n",
    "print(x)\n",
    "x = np.full((4,3),5,dtype=float)\n",
    "print(x)"
   ]
  },
  {
   "cell_type": "markdown",
   "metadata": {},
   "source": [
    "## Matrix Operations"
   ]
  },
  {
   "cell_type": "code",
   "execution_count": 48,
   "metadata": {},
   "outputs": [
    {
     "name": "stdout",
     "output_type": "stream",
     "text": [
      "[[5 7]\n",
      " [7 9]]\n",
      "[[5 7]\n",
      " [7 9]]\n",
      "[[-3 -3]\n",
      " [-3 -3]]\n",
      "[[-3 -3]\n",
      " [-3 -3]]\n",
      "[[ 4 10]\n",
      " [10 18]]\n",
      "[[ 4 10]\n",
      " [10 18]]\n",
      "[[0.25 0.4 ]\n",
      " [0.4  0.5 ]]\n",
      "[[0.25 0.4 ]\n",
      " [0.4  0.5 ]]\n",
      "[[1.         1.41421356]\n",
      " [1.41421356 1.73205081]]\n",
      "[[1 4]\n",
      " [4 9]]\n",
      "[[13 19]\n",
      " [19 27]]\n"
     ]
    }
   ],
   "source": [
    "x = np.array([\n",
    "    [1,2],\n",
    "    [2,3]\n",
    "])\n",
    "y = np.array([\n",
    "    [4,5],\n",
    "    [5,6]\n",
    "])\n",
    "\n",
    "# Element wise operations\n",
    "print(x+y)\n",
    "print(np.add(x,y))\n",
    "#########################\n",
    "print(x-y)\n",
    "print(np.subtract(x,y))\n",
    "#########################\n",
    "print(x*y)\n",
    "print(np.multiply(x,y))\n",
    "#########################\n",
    "print(x/y)\n",
    "print(np.divide(x,y))\n",
    "#########################\n",
    "print(np.sqrt(x))\n",
    "#########################\n",
    "print(x**2)\n",
    "#########################\n",
    "print(x**2 + 3*y)"
   ]
  },
  {
   "cell_type": "code",
   "execution_count": 34,
   "metadata": {},
   "outputs": [
    {
     "name": "stdout",
     "output_type": "stream",
     "text": [
      "[[14 17]\n",
      " [23 28]]\n",
      "[[14 17]\n",
      " [23 28]]\n",
      "40\n",
      "40\n"
     ]
    }
   ],
   "source": [
    "# Matrix multiplication\n",
    "print(x.dot(y))\n",
    "print(np.dot(x,y))\n",
    "\n",
    "\n",
    "# dot of vectors\n",
    "a = np.array([1,2,3,4])\n",
    "b = np.array([2,3,4,5])\n",
    "\n",
    "print(a.dot(b))\n",
    "print(np.dot(a,b))"
   ]
  },
  {
   "cell_type": "markdown",
   "metadata": {},
   "source": [
    "## Some other mathematical operations and functions"
   ]
  },
  {
   "cell_type": "code",
   "execution_count": 42,
   "metadata": {},
   "outputs": [
    {
     "name": "stdout",
     "output_type": "stream",
     "text": [
      "10\n",
      "42\n",
      "[10 14 18]\n",
      "[ 6  9 12 15]\n"
     ]
    }
   ],
   "source": [
    "x = np.array([1,2,3,4])\n",
    "print(np.sum(x))\n",
    "\n",
    "x = np.array([\n",
    "    [1,2,3],\n",
    "    [2,3,4],\n",
    "    [3,4,5],\n",
    "    [4,5,6]\n",
    "])\n",
    "\n",
    "print(np.sum(x))\n",
    "print(np.sum(x,axis=0)) ## along the column sum\n",
    "print(np.sum(x,axis=1)) ## along the row sum"
   ]
  },
  {
   "cell_type": "code",
   "execution_count": 44,
   "metadata": {},
   "outputs": [
    {
     "name": "stdout",
     "output_type": "stream",
     "text": [
      "[0 1 2 3 4 5 6 7 8 9]\n",
      "[10 11 12 13 14 15 16 17 18 19]\n",
      "[10 12 14 16 18]\n",
      "[10.  10.5 11.  11.5 12.  12.5 13.  13.5 14.  14.5 15.  15.5 16.  16.5\n",
      " 17.  17.5 18.  18.5 19.  19.5]\n"
     ]
    }
   ],
   "source": [
    "## np.arange(start_val,end_val+1,increment)\n",
    "x = np.arange(10)\n",
    "print(x)\n",
    "x = np.arange(10,20)\n",
    "print(x)\n",
    "x = np.arange(10,20,2)\n",
    "print(x)\n",
    "x = np.arange(10,20,0.5)\n",
    "print(x)"
   ]
  },
  {
   "cell_type": "code",
   "execution_count": 49,
   "metadata": {},
   "outputs": [
    {
     "name": "stdout",
     "output_type": "stream",
     "text": [
      "[[1 1 3]\n",
      " [2 3 4]\n",
      " [1 2 5]]\n",
      "[[1 2 1]\n",
      " [1 3 2]\n",
      " [3 4 5]]\n"
     ]
    }
   ],
   "source": [
    "# Transpose of a matrix\n",
    "\n",
    "x = np.array([\n",
    "    [1,1,3],\n",
    "    [2,3,4],\n",
    "    [1,2,5]\n",
    "])\n",
    "\n",
    "print(x)\n",
    "y = x.T\n",
    "print(y)"
   ]
  },
  {
   "cell_type": "code",
   "execution_count": 50,
   "metadata": {},
   "outputs": [
    {
     "name": "stdout",
     "output_type": "stream",
     "text": [
      "[[ 1  4  9 16]\n",
      " [25 36 49 64]]\n"
     ]
    }
   ],
   "source": [
    "## Reshaping a numpy array\n",
    "x = np.array([\n",
    "    [1,4,9,16],\n",
    "    [25,36,49,64]\n",
    "])\n",
    "\n",
    "print(x)"
   ]
  },
  {
   "cell_type": "markdown",
   "metadata": {},
   "source": [
    "## ndarray.reshape"
   ]
  },
  {
   "cell_type": "code",
   "execution_count": 55,
   "metadata": {},
   "outputs": [
    {
     "name": "stdout",
     "output_type": "stream",
     "text": [
      "[[ 1  4]\n",
      " [ 9 16]\n",
      " [25 36]\n",
      " [49 64]]\n",
      "\n",
      "[[ 1]\n",
      " [ 4]\n",
      " [ 9]\n",
      " [16]\n",
      " [25]\n",
      " [36]\n",
      " [49]\n",
      " [64]]\n",
      "\n",
      "[[ 1  4  9 16 25 36 49 64]]\n",
      "\n",
      "[ 1  4  9 16 25 36 49 64]\n",
      "\n",
      "[[ 1  4  9 16]\n",
      " [25 36 49 64]]\n",
      "\n",
      "[[ 1  4]\n",
      " [ 9 16]\n",
      " [25 36]\n",
      " [49 64]]\n",
      "\n",
      "[[ 1  4]\n",
      " [ 9 16]\n",
      " [25 36]\n",
      " [49 64]]\n",
      "\n",
      "[[ 1  4  9 16]\n",
      " [25 36 49 64]]\n",
      "\n"
     ]
    }
   ],
   "source": [
    "x = x.reshape((4,2))\n",
    "print(x)\n",
    "print()\n",
    "x = x.reshape((8,1))\n",
    "print(x)\n",
    "print()\n",
    "x = x.reshape((1,8))\n",
    "print(x)\n",
    "print()\n",
    "x = x.reshape(8)\n",
    "print(x)\n",
    "print()\n",
    "x = x.reshape((2,-1))\n",
    "print(x)\n",
    "print()\n",
    "x = x.reshape((4,-1)) # We want to have 4 rows but we are not sure how to calculate the columns then we specify -1\n",
    "print(x)\n",
    "print()\n",
    "x = x.reshape((-1,2))\n",
    "print(x)\n",
    "print()\n",
    "x = x.reshape((-1,4))\n",
    "print(x)\n",
    "print()\n"
   ]
  },
  {
   "cell_type": "code",
   "execution_count": 8,
   "metadata": {},
   "outputs": [
    {
     "name": "stdout",
     "output_type": "stream",
     "text": [
      "Help on function linspace in module numpy:\n",
      "\n",
      "linspace(start, stop, num=50, endpoint=True, retstep=False, dtype=None, axis=0)\n",
      "    Return evenly spaced numbers over a specified interval.\n",
      "    \n",
      "    Returns `num` evenly spaced samples, calculated over the\n",
      "    interval [`start`, `stop`].\n",
      "    \n",
      "    The endpoint of the interval can optionally be excluded.\n",
      "    \n",
      "    .. versionchanged:: 1.16.0\n",
      "        Non-scalar `start` and `stop` are now supported.\n",
      "    \n",
      "    Parameters\n",
      "    ----------\n",
      "    start : array_like\n",
      "        The starting value of the sequence.\n",
      "    stop : array_like\n",
      "        The end value of the sequence, unless `endpoint` is set to False.\n",
      "        In that case, the sequence consists of all but the last of ``num + 1``\n",
      "        evenly spaced samples, so that `stop` is excluded.  Note that the step\n",
      "        size changes when `endpoint` is False.\n",
      "    num : int, optional\n",
      "        Number of samples to generate. Default is 50. Must be non-negative.\n",
      "    endpoint : bool, optional\n",
      "        If True, `stop` is the last sample. Otherwise, it is not included.\n",
      "        Default is True.\n",
      "    retstep : bool, optional\n",
      "        If True, return (`samples`, `step`), where `step` is the spacing\n",
      "        between samples.\n",
      "    dtype : dtype, optional\n",
      "        The type of the output array.  If `dtype` is not given, infer the data\n",
      "        type from the other input arguments.\n",
      "    \n",
      "        .. versionadded:: 1.9.0\n",
      "    \n",
      "    axis : int, optional\n",
      "        The axis in the result to store the samples.  Relevant only if start\n",
      "        or stop are array-like.  By default (0), the samples will be along a\n",
      "        new axis inserted at the beginning. Use -1 to get an axis at the end.\n",
      "    \n",
      "        .. versionadded:: 1.16.0\n",
      "    \n",
      "    Returns\n",
      "    -------\n",
      "    samples : ndarray\n",
      "        There are `num` equally spaced samples in the closed interval\n",
      "        ``[start, stop]`` or the half-open interval ``[start, stop)``\n",
      "        (depending on whether `endpoint` is True or False).\n",
      "    step : float, optional\n",
      "        Only returned if `retstep` is True\n",
      "    \n",
      "        Size of spacing between samples.\n",
      "    \n",
      "    \n",
      "    See Also\n",
      "    --------\n",
      "    arange : Similar to `linspace`, but uses a step size (instead of the\n",
      "             number of samples).\n",
      "    geomspace : Similar to `linspace`, but with numbers spaced evenly on a log\n",
      "                scale (a geometric progression).\n",
      "    logspace : Similar to `geomspace`, but with the end points specified as\n",
      "               logarithms.\n",
      "    \n",
      "    Examples\n",
      "    --------\n",
      "    >>> np.linspace(2.0, 3.0, num=5)\n",
      "    array([ 2.  ,  2.25,  2.5 ,  2.75,  3.  ])\n",
      "    >>> np.linspace(2.0, 3.0, num=5, endpoint=False)\n",
      "    array([ 2. ,  2.2,  2.4,  2.6,  2.8])\n",
      "    >>> np.linspace(2.0, 3.0, num=5, retstep=True)\n",
      "    (array([ 2.  ,  2.25,  2.5 ,  2.75,  3.  ]), 0.25)\n",
      "    \n",
      "    Graphical illustration:\n",
      "    \n",
      "    >>> import matplotlib.pyplot as plt\n",
      "    >>> N = 8\n",
      "    >>> y = np.zeros(N)\n",
      "    >>> x1 = np.linspace(0, 10, N, endpoint=True)\n",
      "    >>> x2 = np.linspace(0, 10, N, endpoint=False)\n",
      "    >>> plt.plot(x1, y, 'o')\n",
      "    [<matplotlib.lines.Line2D object at 0x...>]\n",
      "    >>> plt.plot(x2, y + 0.5, 'o')\n",
      "    [<matplotlib.lines.Line2D object at 0x...>]\n",
      "    >>> plt.ylim([-0.5, 1])\n",
      "    (-0.5, 1)\n",
      "    >>> plt.show()\n",
      "\n"
     ]
    }
   ],
   "source": [
    "## ndarray.linspace\n",
    "help(np.linspace)"
   ]
  },
  {
   "cell_type": "code",
   "execution_count": 9,
   "metadata": {},
   "outputs": [
    {
     "name": "stdout",
     "output_type": "stream",
     "text": [
      "[10.         10.52631579 11.05263158 11.57894737 12.10526316 12.63157895\n",
      " 13.15789474 13.68421053 14.21052632 14.73684211 15.26315789 15.78947368\n",
      " 16.31578947 16.84210526 17.36842105 17.89473684 18.42105263 18.94736842\n",
      " 19.47368421 20.        ]\n"
     ]
    }
   ],
   "source": [
    "print(np.linspace(10,20,num=20))"
   ]
  },
  {
   "cell_type": "markdown",
   "metadata": {},
   "source": [
    "## Stacking of arrays"
   ]
  },
  {
   "cell_type": "code",
   "execution_count": 3,
   "metadata": {},
   "outputs": [
    {
     "name": "stdout",
     "output_type": "stream",
     "text": [
      "[[1 2 3 4]\n",
      " [2 3 4 5]]\n",
      "[[ 4  9 16 25]\n",
      " [ 9 16 25 36]]\n"
     ]
    }
   ],
   "source": [
    "## Stacking of arrays\n",
    "a = np.array([[1,2,3,4],[2,3,4,5]])\n",
    "b = np.array([[2,3,4,5],[3,4,5,6]])\n",
    "\n",
    "b = b**2\n",
    "print(a)\n",
    "print(b)"
   ]
  },
  {
   "cell_type": "code",
   "execution_count": 4,
   "metadata": {},
   "outputs": [
    {
     "data": {
      "text/plain": [
       "array([[[ 1,  2,  3,  4],\n",
       "        [ 2,  3,  4,  5]],\n",
       "\n",
       "       [[ 4,  9, 16, 25],\n",
       "        [ 9, 16, 25, 36]]])"
      ]
     },
     "execution_count": 4,
     "metadata": {},
     "output_type": "execute_result"
    }
   ],
   "source": [
    "np.stack((a,b),axis=0)"
   ]
  },
  {
   "cell_type": "code",
   "execution_count": 5,
   "metadata": {},
   "outputs": [
    {
     "data": {
      "text/plain": [
       "array([[[ 1,  2,  3,  4],\n",
       "        [ 4,  9, 16, 25]],\n",
       "\n",
       "       [[ 2,  3,  4,  5],\n",
       "        [ 9, 16, 25, 36]]])"
      ]
     },
     "execution_count": 5,
     "metadata": {},
     "output_type": "execute_result"
    }
   ],
   "source": [
    "np.stack((a,b),axis=1)"
   ]
  },
  {
   "cell_type": "code",
   "execution_count": 6,
   "metadata": {},
   "outputs": [
    {
     "data": {
      "text/plain": [
       "array([[ 1,  2,  3,  4],\n",
       "       [ 2,  3,  4,  5],\n",
       "       [ 4,  9, 16, 25],\n",
       "       [ 9, 16, 25, 36]])"
      ]
     },
     "execution_count": 6,
     "metadata": {},
     "output_type": "execute_result"
    }
   ],
   "source": [
    "np.vstack((a,b)) ## only works when the number of columns are same"
   ]
  },
  {
   "cell_type": "code",
   "execution_count": 7,
   "metadata": {},
   "outputs": [
    {
     "data": {
      "text/plain": [
       "array([[ 1,  2,  3,  4,  4,  9, 16, 25],\n",
       "       [ 2,  3,  4,  5,  9, 16, 25, 36]])"
      ]
     },
     "execution_count": 7,
     "metadata": {},
     "output_type": "execute_result"
    }
   ],
   "source": [
    "np.hstack((a,b)) ## only works when the rows are same"
   ]
  },
  {
   "cell_type": "code",
   "execution_count": 8,
   "metadata": {},
   "outputs": [
    {
     "name": "stdout",
     "output_type": "stream",
     "text": [
      "[1 2 3 4]\n",
      "[1 2 2 3]\n"
     ]
    }
   ],
   "source": [
    "a = np.array([1,2,3,4])\n",
    "b = np.array([1,2,2,3])\n",
    "print(a,b,sep='\\n')"
   ]
  },
  {
   "cell_type": "code",
   "execution_count": 9,
   "metadata": {},
   "outputs": [
    {
     "data": {
      "text/plain": [
       "array([[1, 2, 3, 4],\n",
       "       [1, 2, 2, 3]])"
      ]
     },
     "execution_count": 9,
     "metadata": {},
     "output_type": "execute_result"
    }
   ],
   "source": [
    "np.stack((a,b),axis=0)"
   ]
  },
  {
   "cell_type": "code",
   "execution_count": 10,
   "metadata": {},
   "outputs": [
    {
     "data": {
      "text/plain": [
       "array([[1, 1],\n",
       "       [2, 2],\n",
       "       [3, 2],\n",
       "       [4, 3]])"
      ]
     },
     "execution_count": 10,
     "metadata": {},
     "output_type": "execute_result"
    }
   ],
   "source": [
    "np.stack((a,b),axis=1)"
   ]
  },
  {
   "cell_type": "code",
   "execution_count": 65,
   "metadata": {},
   "outputs": [],
   "source": [
    "### Stack is not clear"
   ]
  },
  {
   "cell_type": "markdown",
   "metadata": {},
   "source": [
    "## Random Module"
   ]
  },
  {
   "cell_type": "code",
   "execution_count": 66,
   "metadata": {},
   "outputs": [
    {
     "name": "stdout",
     "output_type": "stream",
     "text": [
      "[[0.72318185 0.0611261  0.88362907]\n",
      " [0.25071442 0.19611818 0.08965343]]\n"
     ]
    }
   ],
   "source": [
    "# Random Matrix\n",
    "randomMatrix = np.random.random((2,3)) ## np.random.random(matrix size) -> random values from uniform normal distribution\n",
    "print(randomMatrix)"
   ]
  },
  {
   "cell_type": "code",
   "execution_count": 68,
   "metadata": {},
   "outputs": [
    {
     "name": "stdout",
     "output_type": "stream",
     "text": [
      "[ 5  6  7  8  9 10 11 12 13 14]\n"
     ]
    }
   ],
   "source": [
    "a = np.arange(10) + 5\n",
    "print(a)"
   ]
  },
  {
   "cell_type": "code",
   "execution_count": 69,
   "metadata": {},
   "outputs": [
    {
     "name": "stdout",
     "output_type": "stream",
     "text": [
      "[ 5 10  9 11  8 12  7 14  6 13]\n"
     ]
    }
   ],
   "source": [
    "np.random.shuffle(a)\n",
    "print(a)"
   ]
  },
  {
   "cell_type": "code",
   "execution_count": 72,
   "metadata": {},
   "outputs": [
    {
     "name": "stdout",
     "output_type": "stream",
     "text": [
      "[[0.65660795 0.01317373 0.80706514]\n",
      " [0.05162718 0.88450876 0.86930195]]\n",
      "\n",
      "[[-1.2770393   0.53404701  0.51001961]\n",
      " [-0.126736   -0.08018814  0.36549922]]\n",
      "[8 7 8]\n"
     ]
    }
   ],
   "source": [
    "a = np.random.rand(2,3)\n",
    "# Returns values from Uniform Distribution\n",
    "print(a)\n",
    "print()\n",
    "# Returns values from Standard Normal Distribution\n",
    "a = np.random.randn(2,3)\n",
    "print(a)\n",
    "\n",
    "# randint(low, high=None, size=None, dtype='l')\n",
    "a = np.random.randint(5,10,3)\n",
    "print(a)"
   ]
  },
  {
   "cell_type": "code",
   "execution_count": 73,
   "metadata": {},
   "outputs": [
    {
     "name": "stdout",
     "output_type": "stream",
     "text": [
      "3\n"
     ]
    }
   ],
   "source": [
    "# Randomly pick one element from an array\n",
    "# choice(a, size=None, replace=True, p=None) -> Generates a random sample from a given 1-D array\n",
    "element = np.random.choice([1,2,3,4,5,6,7,8,9])\n",
    "print(element)"
   ]
  },
  {
   "cell_type": "code",
   "execution_count": 74,
   "metadata": {},
   "outputs": [],
   "source": [
    "np.random.choice? ## Prints the docstring"
   ]
  },
  {
   "cell_type": "code",
   "execution_count": 75,
   "metadata": {},
   "outputs": [],
   "source": [
    "## seed() value is important"
   ]
  },
  {
   "cell_type": "markdown",
   "metadata": {},
   "source": [
    "## Statistical Operations"
   ]
  },
  {
   "cell_type": "code",
   "execution_count": 3,
   "metadata": {},
   "outputs": [
    {
     "name": "stdout",
     "output_type": "stream",
     "text": [
      "[[1 2 3 4]\n",
      " [5 6 7 8]]\n"
     ]
    }
   ],
   "source": [
    "a = np.array([\n",
    "    [1,2,3,4],\n",
    "    [5,6,7,8]\n",
    "])\n",
    "print(a)"
   ]
  },
  {
   "cell_type": "code",
   "execution_count": 4,
   "metadata": {},
   "outputs": [
    {
     "name": "stdout",
     "output_type": "stream",
     "text": [
      "1\n",
      "8\n",
      "[1 2 3 4]\n",
      "[1 5]\n"
     ]
    }
   ],
   "source": [
    "# axis = 0 -> works along columns\n",
    "# axis = 1 -> works along rows\n",
    "\n",
    "print(np.min(a))\n",
    "print(np.max(a))\n",
    "\n",
    "print(np.min(a,axis=0))\n",
    "print(np.min(a,axis=1))"
   ]
  },
  {
   "cell_type": "code",
   "execution_count": 5,
   "metadata": {},
   "outputs": [
    {
     "name": "stdout",
     "output_type": "stream",
     "text": [
      "3.0\n",
      "3.0\n"
     ]
    }
   ],
   "source": [
    "# Mean function\n",
    "\n",
    "b = np.array([1,2,3,4,5])\n",
    "m = sum(b)/5\n",
    "\n",
    "print(m)\n",
    "print(np.mean(b))"
   ]
  },
  {
   "cell_type": "code",
   "execution_count": 6,
   "metadata": {},
   "outputs": [
    {
     "name": "stdout",
     "output_type": "stream",
     "text": [
      "[3. 4. 5. 6.]\n",
      "[2.5 6.5]\n"
     ]
    }
   ],
   "source": [
    "print(np.mean(a,axis=0))\n",
    "print(np.mean(a,axis=1))"
   ]
  },
  {
   "cell_type": "code",
   "execution_count": 7,
   "metadata": {},
   "outputs": [
    {
     "name": "stdout",
     "output_type": "stream",
     "text": [
      "4.5\n"
     ]
    }
   ],
   "source": [
    "print(np.mean(a))"
   ]
  },
  {
   "cell_type": "code",
   "execution_count": 8,
   "metadata": {},
   "outputs": [
    {
     "name": "stdout",
     "output_type": "stream",
     "text": [
      "[1 2 3 4 5]\n",
      "3.0\n"
     ]
    }
   ],
   "source": [
    "print(b)\n",
    "print(np.median(b))"
   ]
  },
  {
   "cell_type": "code",
   "execution_count": 9,
   "metadata": {},
   "outputs": [
    {
     "name": "stdout",
     "output_type": "stream",
     "text": [
      "5.958333333333333\n"
     ]
    }
   ],
   "source": [
    "# Mean vs Average(is weighted)\n",
    "\n",
    "arr = np.array([1,2,5,4,6,8,9])\n",
    "wts = np.array([2,3,1,3,4,5,6])\n",
    "\n",
    "print(np.average(arr,weights=wts))"
   ]
  },
  {
   "cell_type": "code",
   "execution_count": 10,
   "metadata": {},
   "outputs": [
    {
     "name": "stdout",
     "output_type": "stream",
     "text": [
      "[1 2 5 4 6 8 9]\n",
      "2.7255405754769875\n"
     ]
    }
   ],
   "source": [
    "# Standard Deviation\n",
    "print(arr)\n",
    "u = np.mean(arr)\n",
    "std = np.sqrt(np.mean(abs(arr-u)**2))\n",
    "print(std)"
   ]
  },
  {
   "cell_type": "code",
   "execution_count": 11,
   "metadata": {},
   "outputs": [
    {
     "name": "stdout",
     "output_type": "stream",
     "text": [
      "2.7255405754769875\n"
     ]
    }
   ],
   "source": [
    "print(np.std(arr))"
   ]
  },
  {
   "cell_type": "code",
   "execution_count": 12,
   "metadata": {},
   "outputs": [
    {
     "name": "stdout",
     "output_type": "stream",
     "text": [
      "7.428571428571428\n",
      "7.428571428571429\n"
     ]
    }
   ],
   "source": [
    "# Variance \n",
    "print(std**2)\n",
    "\n",
    "print(np.var(arr))"
   ]
  },
  {
   "cell_type": "markdown",
   "metadata": {},
   "source": [
    "## Iterating over arrays"
   ]
  },
  {
   "cell_type": "code",
   "execution_count": 2,
   "metadata": {},
   "outputs": [
    {
     "name": "stdout",
     "output_type": "stream",
     "text": [
      "1 2 3 4 \n",
      "2 3 4 5 \n",
      "2\n",
      "1 2 3 4 \n",
      "2 3 4 5 \n"
     ]
    }
   ],
   "source": [
    "import numpy as np\n",
    "x = np.array([\n",
    "    [1,2,3,4],\n",
    "    [2,3,4,5]\n",
    "])\n",
    "\n",
    "for i in x:\n",
    "    for j in i:\n",
    "        print(j,end=\" \")\n",
    "    print()\n",
    "    \n",
    "row = x.shape[0]\n",
    "col = x.shape[1]\n",
    "print(row)\n",
    "\n",
    "for i in range(row):\n",
    "    for j in range(col):\n",
    "        print(x[i][j],end=\" \")\n",
    "    print()\n"
   ]
  },
  {
   "cell_type": "code",
   "execution_count": null,
   "metadata": {},
   "outputs": [],
   "source": []
  }
 ],
 "metadata": {
  "kernelspec": {
   "display_name": "Python 3",
   "language": "python",
   "name": "python3"
  },
  "language_info": {
   "codemirror_mode": {
    "name": "ipython",
    "version": 3
   },
   "file_extension": ".py",
   "mimetype": "text/x-python",
   "name": "python",
   "nbconvert_exporter": "python",
   "pygments_lexer": "ipython3",
   "version": "3.7.3"
  }
 },
 "nbformat": 4,
 "nbformat_minor": 2
}
